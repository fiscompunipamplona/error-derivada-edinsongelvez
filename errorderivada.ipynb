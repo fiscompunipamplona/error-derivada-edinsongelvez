{
 "cells": [
  {
   "cell_type": "markdown",
   "metadata": {},
   "source": [
    "A continuación se realiza la derivadas para la función f(x)=x(x-1) de forma analítica, y de forma computacional para los diferentes valores de delta, y posteriormente se calcula el error entre el valor analítico y computacional."
   ]
  },
  {
   "cell_type": "code",
   "execution_count": 2,
   "metadata": {},
   "outputs": [
    {
     "name": "stdout",
     "output_type": "stream",
     "text": [
      "Función:\n",
      "\t f(x)= x(x-1) \n",
      "\n",
      "Derivada mediante el límite:\n",
      "\t\t\t    lim    f(x+ς)-f(x)/ς\n",
      "\t\t\t    ς->0         \n",
      "\t \n",
      "\n",
      "Derivada de la función:\n",
      "\t\t\tf'(x)= 2x-1 \n",
      "\n",
      "Forma Analítica:\n",
      "\t\t f'(1)= 2(1)-1\n",
      "\t\t f'(1)= 1\n",
      " \n",
      "\n",
      "Mediante Límites\n",
      "\n",
      "f'(1)=  1.010000000000001 [con ς=  0.01 ] con un error del  1.0000000000000897 %\n",
      "f'(1)=  1.0000999999998899 [con ς=  0.0001 ] con un error del  0.009999999988985486 %\n",
      "f'(1)=  1.0000009999177333 [con ς=  1e-06 ] con un error del  9.99917733279787e-05 %\n",
      "f'(1)=  1.0000000039225287 [con ς=  1e-08 ] con un error del  3.9225287462585356e-07 %\n",
      "f'(1)=  1.000000082840371 [con ς=  1e-10 ] con un error del  8.284037100736441e-06 %\n",
      "f'(1)=  1.0000889005833413 [con ς=  1e-12 ] con un error del  0.008890058334132256 %\n",
      "f'(1)=  0.9992007221626509 [con ς=  1e-14 ] con un error del  0.07992778373491216 %\n"
     ]
    }
   ],
   "source": [
    "import math\n",
    "x = 1\n",
    "#ς\n",
    "print(\"Función:\")\n",
    "print(\"\t f(x)= x(x-1) \")\n",
    "print()\n",
    "print('''Derivada mediante el límite:\n",
    "\t\t\t    lim    f(x+ς)-f(x)/ς\n",
    "\t\t\t    ς->0         \n",
    "\t ''')\n",
    "print()\n",
    "print(\"Derivada de la función:\")\n",
    "print(\"\t\t\tf'(x)= 2x-1 \")\n",
    "print()\n",
    "print('''Forma Analítica:\n",
    "\t\t f'(1)= 2(1)-1\n",
    "\t\t f'(1)= 1\n",
    " ''')\n",
    "print()\n",
    "print(\"Mediante Límites\")\n",
    "print()\n",
    "sigma = [0.01, 0.0001, 0.000001, 0.00000001, 0.0000000001, 0.000000000001, 0.00000000000001]\n",
    "k = 1\n",
    "for i in sigma:\n",
    "\tk += i\n",
    "\ty = (((k)*(k-1))-(x*(x-1)))/i\n",
    "\tz = x-y\n",
    "\tz = abs(z)\n",
    "\tprint (\"f'(1)= \",y, \"[con ς= \",i,\"]\", \"con un error del \",z*100,\"%\")\n",
    "\tk = 1"
   ]
  },
  {
   "cell_type": "markdown",
   "metadata": {},
   "source": [
    "De lo anterior y para los diferentes valores de delta se puede observar que a medida que el delta tiende a cero se va cumpliendo la definición de derivada. Respecto al error se puede observar que para los valores de ${\\delta}^{-2}$, ${\\delta}^{-4}$, ${\\delta}^{-12}$ y ${\\delta}^{-14}$ el error se reduce considerablemente, mientras que para ${\\delta}^{-6}$, ${\\delta}^{-8}$ y ${\\delta}^{-10}$ aumenta respecto de los otros valores."
   ]
  },
  {
   "cell_type": "code",
   "execution_count": null,
   "metadata": {},
   "outputs": [],
   "source": []
  }
 ],
 "metadata": {
  "kernelspec": {
   "display_name": "Python 3",
   "language": "python",
   "name": "python3"
  },
  "language_info": {
   "codemirror_mode": {
    "name": "ipython",
    "version": 3
   },
   "file_extension": ".py",
   "mimetype": "text/x-python",
   "name": "python",
   "nbconvert_exporter": "python",
   "pygments_lexer": "ipython3",
   "version": "3.6.7"
  }
 },
 "nbformat": 4,
 "nbformat_minor": 2
}
