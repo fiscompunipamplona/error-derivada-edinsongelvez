{
 "cells": [
  {
   "cell_type": "markdown",
   "metadata": {},
   "source": [
    "A continuación se realiza la derivadas para la función f(x)=x(x-1) de forma analítica, y de forma computacional para los diferentes valores de delta, y posteriormente se calcula el error entre el valor analítico y computacional."
   ]
  },
  {
   "cell_type": "code",
   "execution_count": 1,
   "metadata": {},
   "outputs": [
    {
     "name": "stdout",
     "output_type": "stream",
     "text": [
      "Función:\n",
      "\t f(x)= x(x-1) \n",
      "\n",
      "Derivada mediante el límite:\n",
      "\t\t\t    lim    f(x+ς)-f(x)/ς\n",
      "\t\t\t    ς->0         \n",
      "\t \n",
      "\n",
      "Derivada de la función:\n",
      "\t\t\tf'(x)= 2x-1 \n",
      "\n",
      "Forma Analítica:\n",
      "\t\t f'(1)= 2(1)-1\n",
      "\t\t f'(1)= 1\n",
      " \n",
      "\n",
      "Mediante Límites\n",
      "\n",
      "f'(1)=  1.010000000000001  [con ς= 10**(-2)]   con un error del  1.0000000000000897 %\n",
      "f'(1)=  1.0000999999998899 [con ς= 10**(-4)]   con un error del  0.009999999988985486 %\n",
      "f'(1)=  1.0000009999177333 [con ς= 10**(-6)]   con un error del  9.99917733279787e-05 %\n",
      "f'(1)=  1.0000000039225287 [con ς= 10**(-8)]   con un error del  3.9225287462585356e-07 %\n",
      "f'(1)=  1.000000082840371  [con ς= 10**(-10)]  con un error del  8.284037100736441e-06 %\n"
     ]
    }
   ],
   "source": [
    "x = 1\n",
    "#ς\n",
    "print(\"Función:\")\n",
    "print(\"\t f(x)= x(x-1) \")\n",
    "print()\n",
    "print('''Derivada mediante el límite:\n",
    "\t\t\t    lim    f(x+ς)-f(x)/ς\n",
    "\t\t\t    ς->0         \n",
    "\t ''')\n",
    "print()\n",
    "print(\"Derivada de la función:\")\n",
    "print(\"\t\t\tf'(x)= 2x-1 \")\n",
    "print()\n",
    "print('''Forma Analítica:\n",
    "\t\t f'(1)= 2(1)-1\n",
    "\t\t f'(1)= 1\n",
    " ''')\n",
    "print()\n",
    "print(\"Mediante Límites\")\n",
    "print()\n",
    "y = (((x+10**(-2))*((x+10**(-2))-1))-(x*(x-1)))/10**(-2)\n",
    "z = x-y\n",
    "z = z*-1\n",
    "print(\"f'(1)= \", y, \" [con ς= 10**(-2)] \", \" con un error del \",z*100,\"%\")\n",
    "y = (((x+10**(-4))*((x+10**(-4))-1))-(x*(x-1)))/10**(-4)\n",
    "z = x-y\n",
    "z = z*-1\n",
    "print(\"f'(1)= \", y, \"[con ς= 10**(-4)] \", \" con un error del \",z*100,\"%\")\n",
    "y = (((x+10**(-6))*((x+10**(-6))-1))-(x*(x-1)))/10**(-6)\n",
    "z = x-y\n",
    "z = z*-1\n",
    "print(\"f'(1)= \", y, \"[con ς= 10**(-6)] \", \" con un error del \",z*100,\"%\")\n",
    "y = (((x+10**(-8))*((x+10**(-8))-1))-(x*(x-1)))/10**(-8)\n",
    "z = x-y\n",
    "z = z*-1\n",
    "print(\"f'(1)= \", y, \"[con ς= 10**(-8)] \", \" con un error del \",z*100,\"%\")\n",
    "y = (((x+10**(-10))*((x+10**(-10))-1))-(x*(x-1)))/10**(-10)\n",
    "z = x-y\n",
    "z = z*-1\n",
    "print(\"f'(1)= \", y, \" [con ς= 10**(-10)] \", \"con un error del \",z*100,\"%\")\n",
    "y = (((x+10**(-12))*((x+10**(-12))-1))-(x*(x-1)))/10**(-12)\n",
    "z = x-y\n",
    "z = z*-1"
   ]
  },
  {
   "cell_type": "markdown",
   "metadata": {},
   "source": [
    "De lo anterior y para los diferentes valores de delta se puede observar que a medida que el delta tiende a cero se va cumpliendo a definición de derivada."
   ]
  },
  {
   "cell_type": "code",
   "execution_count": null,
   "metadata": {},
   "outputs": [],
   "source": []
  }
 ],
 "metadata": {
  "kernelspec": {
   "display_name": "Python 3",
   "language": "python",
   "name": "python3"
  },
  "language_info": {
   "codemirror_mode": {
    "name": "ipython",
    "version": 3
   },
   "file_extension": ".py",
   "mimetype": "text/x-python",
   "name": "python",
   "nbconvert_exporter": "python",
   "pygments_lexer": "ipython3",
   "version": "3.6.7"
  }
 },
 "nbformat": 4,
 "nbformat_minor": 2
}
